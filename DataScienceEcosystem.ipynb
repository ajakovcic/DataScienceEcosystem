{
  "metadata": {
    "kernelspec": {
      "name": "python",
      "display_name": "Python (Pyodide)",
      "language": "python"
    },
    "language_info": {
      "codemirror_mode": {
        "name": "python",
        "version": 3
      },
      "file_extension": ".py",
      "mimetype": "text/x-python",
      "name": "python",
      "nbconvert_exporter": "python",
      "pygments_lexer": "ipython3",
      "version": "3.8"
    }
  },
  "nbformat_minor": 5,
  "nbformat": 4,
  "cells": [
    {
      "id": "f532279f-ee50-4615-bbc8-3e8c2bf380da",
      "cell_type": "markdown",
      "source": "# Data Science Tools and Ecosystem",
      "metadata": {}
    },
    {
      "id": "4d3c3095-4e99-4ab9-95ee-4ba8d91c043c",
      "cell_type": "markdown",
      "source": "## Author\n\nAnton Jakovcic",
      "metadata": {}
    },
    {
      "id": "2877c5c7-dc31-490b-9397-53a06efb47eb",
      "cell_type": "markdown",
      "source": "In this notebook, Data Science Tools and Ecosystem are summarized.",
      "metadata": {}
    },
    {
      "id": "fffc49ab-7db9-4e38-bd39-05afd1f0b434",
      "cell_type": "markdown",
      "source": "**Objectives:**\n\n- List popular languages for Data Science  \n- List commonly used libraries  \n- Create tables in markdown  \n- Perform arithmetic operations in Python  \n- Convert units (minutes to hours)",
      "metadata": {}
    },
    {
      "id": "d9b1fa0a-1e93-406c-9e43-30745b1f7035",
      "cell_type": "markdown",
      "source": "Some of the popular languages that Data Scientists use are:\n\n1. Python  \n2. R  \n3. SQL  \n4. Julia  ",
      "metadata": {}
    },
    {
      "id": "1308da77-c946-4694-b0e7-02d2858b02d4",
      "cell_type": "code",
      "source": "",
      "metadata": {
        "trusted": true
      },
      "outputs": [],
      "execution_count": null
    },
    {
      "id": "2c70e6d5-bc0d-4443-b092-fa5fb6ec78ac",
      "cell_type": "markdown",
      "source": "Some of the commonly used libraries used by Data Scientists include:\n\n1. Pandas  \n2. NumPy  \n3. Scikit-learn  \n4. TensorFlow  ",
      "metadata": {}
    },
    {
      "id": "1ada19c8-0421-4b59-83ca-40532883baf3",
      "cell_type": "markdown",
      "source": "| Data Science Tools |\n|--------------------|\n| Jupyter Notebook   |\n| RStudio            |\n| Apache Zeppelin    |",
      "metadata": {}
    },
    {
      "id": "4ea1f8f8-eb08-4ab0-9c2d-d6d3bbfcfe8c",
      "cell_type": "markdown",
      "source": "### Below are a few examples of evaluating arithmetic expressions in Python.",
      "metadata": {}
    },
    {
      "id": "b2b7f2f8-db0e-4b10-acf7-fceeab394d31",
      "cell_type": "code",
      "source": "# This a simple arithmetic expression to multiply then add integers\n(3 * 4) + 5",
      "metadata": {
        "trusted": true
      },
      "outputs": [
        {
          "execution_count": 1,
          "output_type": "execute_result",
          "data": {
            "text/plain": "17"
          },
          "metadata": {}
        }
      ],
      "execution_count": 1
    },
    {
      "id": "58c4541a-50dc-442f-af38-f6682a3adb22",
      "cell_type": "code",
      "source": "# This will convert 200 minutes to hours by dividing by 60\n200 / 60",
      "metadata": {
        "trusted": true
      },
      "outputs": [
        {
          "execution_count": 2,
          "output_type": "execute_result",
          "data": {
            "text/plain": "3.3333333333333335"
          },
          "metadata": {}
        }
      ],
      "execution_count": 2
    },
    {
      "id": "818dc3b2-7223-4d15-8b28-4d3752a9bd4a",
      "cell_type": "code",
      "source": "",
      "metadata": {
        "trusted": true
      },
      "outputs": [],
      "execution_count": null
    }
  ]
}